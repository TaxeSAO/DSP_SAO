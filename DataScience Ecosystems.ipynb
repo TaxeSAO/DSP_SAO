{
 "cells": [
  {
   "cell_type": "markdown",
   "metadata": {},
   "source": [
    "<center>\n",
    "    <img src=\"https://cf-courses-data.s3.us.cloud-object-storage.appdomain.cloud/IBMDeveloperSkillsNetwork-DS0105EN-SkillsNetwork/labs/Module2/images/SN_web_lightmode.png\" width=\"300\" alt=\"cognitiveclass.ai logo\">\n",
    "</center>\n"
   ]
  },
  {
   "cell_type": "markdown",
   "metadata": {},
   "source": [
    "#### Add your code below following the instructions given in the course\n"
   ]
  },
  {
   "cell_type": "markdown",
   "metadata": {},
   "source": [
    "# __Data Science Tools and Ecosystem__"
   ]
  },
  {
   "cell_type": "markdown",
   "metadata": {},
   "source": [
    "In this notebook, Data Science Tools and Ecosystem aree summarized."
   ]
  },
  {
   "cell_type": "markdown",
   "metadata": {},
   "source": [
    "## <u>Data Science Languages</u>\n",
    "Some of the popular languages that Data Scienctists use are:\n",
    "1. Python\n",
    "2. R ...AWR\n",
    "3. SQL\n",
    "4. Julia\n",
    "5. Scala ... Because it's scalable - get it? Seriously, if it's not Scalable does it even exist?\n",
    "6. Java\n",
    "7. C++\n",
    "8. SAS\n",
    "9. JavaScript"
   ]
  },
  {
   "cell_type": "markdown",
   "metadata": {},
   "source": [
    "## <u> Data Science Libraries</u> \n",
    "Some of the popular libraries that Data Scienctists use are:\n",
    "1. Python\n",
    "   - 1.1 NumbPy\n",
    "   - 1.2 pandas\n",
    "   - 1.3 Matplotlib\n",
    "   - 1.4 Sickit-learn\n",
    "   - 1.5 TensorFlow\n",
    "   - 1.6 PyTorch\n",
    "2. R\n",
    "   - 2.1 ggplot2\n",
    "   - 2.2 caret\n",
    "   - 2.3 Shiny\n",
    "4. SQL\n",
    "   - 3.1 SQLAlchemy\n",
    "   - 3.2 SQLite3"
   ]
  },
  {
   "cell_type": "markdown",
   "metadata": {},
   "source": [
    "## <u>Data Science Tools</u>\n",
    "\n",
    "Some of the Data Science Tools are\n",
    "\n",
    "|Data Science Tools|\n",
    "|------------------|\n",
    "|MySQL|\n",
    "|SQL Server|\n",
    "|Apache Hadoop|\n",
    "|Apache Airflow|\n",
    "|Tableau|\n",
    "|Power BI|\n",
    "|GitHub|\n",
    "|Jupyter Notebooks|\n",
    "|RStudio|\n",
    "\n",
    "Also, I hate that this is centered in the cell."
   ]
  },
  {
   "cell_type": "markdown",
   "metadata": {},
   "source": [
    "## <u>Arithmetic Expression Examples:</u>\n",
    "Standard math operators can be utilized in code cells to perform arthmetic expresions. \n",
    "- '+' Addition\n",
    "- '-' Subtraction\n",
    "- '*' Multiplication\n",
    "- '/' Division\n",
    "\n",
    "Below are a few exxamples of evaluating arthmetic expressions in Python."
   ]
  },
  {
   "cell_type": "code",
   "execution_count": 6,
   "metadata": {},
   "outputs": [
    {
     "data": {
      "text/plain": [
       "17"
      ]
     },
     "execution_count": 6,
     "metadata": {},
     "output_type": "execute_result"
    }
   ],
   "source": [
    "(3*4)+5"
   ]
  },
  {
   "cell_type": "code",
   "execution_count": 10,
   "metadata": {},
   "outputs": [
    {
     "data": {
      "text/plain": [
       "3.33"
      ]
     },
     "execution_count": 10,
     "metadata": {},
     "output_type": "execute_result"
    }
   ],
   "source": [
    "#This will conver 200 minutes to hours by dividing by 60:\n",
    "round(200/60, 2)\n"
   ]
  },
  {
   "cell_type": "markdown",
   "metadata": {},
   "source": [
    "## <u>Objectives:</U>\n",
    "- Capture the Flag\n",
    "- Hold the Hill\n",
    "-  Rescue the princ...\n",
    "\n",
    "*oh wait - you meant the objectives of the excercise?*\n",
    "- Introduce data science languages\n",
    "- Introduce data science libraries\n",
    "- Introduce data science tools\n",
    "- Introduce arithmetic functions\n"
   ]
  },
  {
   "cell_type": "markdown",
   "metadata": {},
   "source": [
    "## Author:\n",
    "Micah Elliott\n"
   ]
  },
  {
   "cell_type": "code",
   "execution_count": null,
   "metadata": {},
   "outputs": [],
   "source": []
  }
 ],
 "metadata": {
  "kernelspec": {
   "display_name": "Python 3 (ipykernel)",
   "language": "python",
   "name": "python3"
  },
  "language_info": {
   "codemirror_mode": {
    "name": "ipython",
    "version": 3
   },
   "file_extension": ".py",
   "mimetype": "text/x-python",
   "name": "python",
   "nbconvert_exporter": "python",
   "pygments_lexer": "ipython3",
   "version": "3.12.8"
  }
 },
 "nbformat": 4,
 "nbformat_minor": 4
}
